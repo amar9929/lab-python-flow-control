{
 "cells": [
  {
   "cell_type": "markdown",
   "id": "d3bfc191-8885-42ee-b0a0-bbab867c6f9f",
   "metadata": {
    "tags": []
   },
   "source": [
    "# Lab | Flow Control"
   ]
  },
  {
   "cell_type": "markdown",
   "id": "3851fcd1-cf98-4653-9c89-e003b7ec9400",
   "metadata": {},
   "source": [
    "## Exercise: Managing Customer Orders Optimized\n",
    "\n",
    "In the last lab, you were starting an online store that sells various products. To ensure smooth operations, you developed a program that manages customer orders and inventory.\n",
    "\n",
    "You did so without using flow control. Let's go a step further and improve this code.\n",
    "\n",
    "Follow the steps below to complete the exercise:\n",
    "\n",
    "1. Look at your code from the lab data structures, and improve repeated code with loops.\n",
    "\n",
    "2. Instead of asking the user to input the name of three products that a customer wants to order, do the following:\n",
    "    \n",
    "    a. Prompt the user to enter the name of a product that a customer wants to order.\n",
    "    \n",
    "    b. Add the product name to the \"customer_orders\" set.\n",
    "    \n",
    "    c. Ask the user if they want to add another product (yes/no).\n",
    "    \n",
    "    d. Continue the loop until the user does not want to add another product.\n",
    "\n",
    "3. Instead of updating the inventory by subtracting 1 from the quantity of each product, only do it for  the products that were ordered (those in \"customer_orders\")."
   ]
  },
  {
   "cell_type": "code",
   "execution_count": 1,
   "id": "65d939df",
   "metadata": {},
   "outputs": [
    {
     "name": "stdout",
     "output_type": "stream",
     "text": [
      "Please enter amount of product for t-shirts:6\n",
      "Please enter amount of product for mugs:7\n",
      "Please enter amount of product for hats:8\n",
      "Please enter amount of product for books:9\n",
      "Please enter amount of product for keychains:10\n"
     ]
    },
    {
     "data": {
      "text/plain": [
       "{'t-shirt': 6, 'mug': 7, 'hat': 8, 'book': 9, 'keychain': 10}"
      ]
     },
     "execution_count": 1,
     "metadata": {},
     "output_type": "execute_result"
    }
   ],
   "source": [
    "products=[\"t-shirt\",'mug', \"hat\", \"book\", \"keychain\"]\n",
    "inventory={}\n",
    "for prod in products:\n",
    "    inventory[prod]=int(input(f\"Please enter amount of product for {prod}s:\"))\n",
    "inventory"
   ]
  },
  {
   "cell_type": "code",
   "execution_count": 3,
   "id": "d37b0bab",
   "metadata": {},
   "outputs": [
    {
     "name": "stdout",
     "output_type": "stream",
     "text": [
      "Please enter desired product:mug\n",
      "Do you want to add another productyes\n",
      "Please enter desired product:t-shirt\n",
      "Do you want to add another productno\n",
      "{'mug', 't-shirt'}\n"
     ]
    }
   ],
   "source": [
    "customer_orders=set()\n",
    "customer_orders.add(input(\"Please enter desired product:\"))\n",
    "ask_customer=(input('Do you want to add another product'))\n",
    "while not ask_customer=='no':\n",
    "    customer_orders.add(input(\"Please enter desired product:\"))\n",
    "    ask_customer=(input('Do you want to add another product'))\n",
    "    \n",
    "print(customer_orders)\n",
    "\n"
   ]
  },
  {
   "cell_type": "code",
   "execution_count": 6,
   "id": "c22b410e",
   "metadata": {},
   "outputs": [
    {
     "name": "stdout",
     "output_type": "stream",
     "text": [
      "The total number of products in the order were: 2\n",
      "The percentage of products ordered compared \n",
      "to the total available products was: 5.0\n"
     ]
    }
   ],
   "source": [
    "print('The total number of products in the order were:',len(customer_orders))\n",
    "print('''The percentage of products ordered compared \n",
    "to the total available products was:''' ,100*(len(customer_orders)/sum(inventory.values())))\n",
    "\n"
   ]
  },
  {
   "cell_type": "code",
   "execution_count": 7,
   "id": "7af87020",
   "metadata": {},
   "outputs": [
    {
     "name": "stdout",
     "output_type": "stream",
     "text": [
      "{'t-shirt': 5, 'mug': 6, 'hat': 8, 'book': 9, 'keychain': 10}\n"
     ]
    }
   ],
   "source": [
    "for prod in customer_orders:\n",
    "    if inventory.get(prod):\n",
    "        inventory[prod]-=1\n",
    "print(inventory)"
   ]
  },
  {
   "cell_type": "code",
   "execution_count": null,
   "id": "a80373f0",
   "metadata": {},
   "outputs": [],
   "source": []
  }
 ],
 "metadata": {
  "kernelspec": {
   "display_name": "Python 3 (ipykernel)",
   "language": "python",
   "name": "python3"
  },
  "language_info": {
   "codemirror_mode": {
    "name": "ipython",
    "version": 3
   },
   "file_extension": ".py",
   "mimetype": "text/x-python",
   "name": "python",
   "nbconvert_exporter": "python",
   "pygments_lexer": "ipython3",
   "version": "3.11.5"
  }
 },
 "nbformat": 4,
 "nbformat_minor": 5
}
